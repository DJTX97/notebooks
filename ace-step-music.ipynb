{
  "cells": [
    {
      "cell_type": "markdown",
      "metadata": {
        "id": "_sjfo37-gDQV"
      },
      "source": [
        "# Install"
      ]
    },
    {
      "cell_type": "code",
      "execution_count": null,
      "metadata": {
        "id": "0W0bvPq1df_a"
      },
      "outputs": [],
      "source": [
        "#!pip uninstall ace-step -y\n",
        "# !pip install --upgrade git+https://github.com/ace-step/ACE-Step.git\n",
        "import os\n",
        "os.environ['ACE_PIPELINE_DTYPE'] = 'float16'\n",
        "\n",
        "!pip install uv\n",
        "!git clone https://github.com/ace-step/ACE-Step.git\n",
        "%cd ACE-Step\n",
        "!uv pip install ."
      ]
    },
    {
      "cell_type": "markdown",
      "metadata": {
        "id": "TYaWXOLcgO4A"
      },
      "source": [
        "# LAUNCH!"
      ]
    },
    {
      "cell_type": "code",
      "execution_count": null,
      "metadata": {
        "id": "Q9S6FxllgPHw"
      },
      "outputs": [],
      "source": [
        "MODEL_PATH = '/unzip/checkpoints/'\n",
        "\n",
        "torch_compile = True # @param {type: \"boolean\"}\n",
        "cpu_offload = False # @param {type: \"boolean\"}\n",
        "overlapped_decode = True # @param {type: \"boolean\"}\n",
        "#bf16 = True # @param {type: \"boolean\"}\n",
        "\n",
        "!acestep --checkpoint_path $MODEL_PATH --port 7865 --device_id 0 --share true --torch_compile {torch_compile} --cpu_offload {cpu_offload} --overlapped_decode {overlapped_decode}"
      ]
    }
  ],
  "metadata": {
    "accelerator": "GPU",
    "colab": {
      "gpuType": "T4",
      "private_outputs": true,
      "provenance": []
    },
    "kernelspec": {
      "display_name": "Python 3",
      "name": "python3"
    },
    "language_info": {
      "name": "python"
    }
  },
  "nbformat": 4,
  "nbformat_minor": 0
}
